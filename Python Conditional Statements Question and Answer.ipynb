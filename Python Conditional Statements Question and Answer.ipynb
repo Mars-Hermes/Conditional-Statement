{
 "cells": [
  {
   "cell_type": "markdown",
   "id": "2473318d",
   "metadata": {},
   "source": [
    "# Conditional Statements"
   ]
  },
  {
   "cell_type": "markdown",
   "id": "worldwide-loading",
   "metadata": {},
   "source": [
    "**Q 1:**\n",
    "\n",
    "Ask the user to enter a number.\n",
    "\n",
    "Find out if this number is Odd or Even."
   ]
  },
  {
   "cell_type": "code",
   "execution_count": 2,
   "id": "convenient-discipline",
   "metadata": {},
   "outputs": [
    {
     "name": "stdout",
     "output_type": "stream",
     "text": [
      "please enter a number:8\n",
      "8 is EVEN\n"
     ]
    }
   ],
   "source": [
    "# S 1:\n",
    "\n",
    "def even():\n",
    "    n = 8\n",
    "    8 % 2 == 0\n",
    "t = input('please enter a number:')\n",
    "print('{} is EVEN'.format(t))"
   ]
  },
  {
   "cell_type": "markdown",
   "id": "composed-colony",
   "metadata": {},
   "source": [
    "**Q 2:**\n",
    "\n",
    "Ask for a letter from the user.\n",
    "\n",
    "Find out if it is a vowel or consonant."
   ]
  },
  {
   "cell_type": "code",
   "execution_count": null,
   "id": "deluxe-protection",
   "metadata": {},
   "outputs": [],
   "source": [
    "# S 2:\n",
    "\n",
    "def letter():\n",
    "    v = 'o' \n",
    "j = input('please enter a letter:')\n",
    "c = input('please enter a vowel:')\n",
    "print('{} '.format(''))"
   ]
  },
  {
   "cell_type": "markdown",
   "id": "cordless-savannah",
   "metadata": {},
   "source": [
    "---"
   ]
  },
  {
   "cell_type": "markdown",
   "id": "indoor-hughes",
   "metadata": {},
   "source": [
    "**Q 3:**\n",
    "\n",
    "Define a function named **which_shape**.\n",
    "\n",
    "The function will ask a number from the user.\n",
    "\n",
    "It will decide the name of the shape according to that number, and return that name.\n",
    "\n",
    "Sides & Shapes:\n",
    "* 3 - Triangle\n",
    "* 4 - Rectangle\n",
    "* 5 - Pentagon\n",
    "* 6 - Hexagon\n",
    "* 7 and more - Polygon"
   ]
  },
  {
   "cell_type": "code",
   "execution_count": 7,
   "id": "adequate-transition",
   "metadata": {},
   "outputs": [],
   "source": [
    "# S 3:\n",
    "\n",
    "\n",
    "    "
   ]
  },
  {
   "cell_type": "code",
   "execution_count": 9,
   "id": "suffering-reality",
   "metadata": {},
   "outputs": [
    {
     "name": "stdin",
     "output_type": "stream",
     "text": [
      "Please enter number of sides:  4\n"
     ]
    },
    {
     "name": "stdout",
     "output_type": "stream",
     "text": [
      "Rectangle\n"
     ]
    }
   ],
   "source": [
    "shape = which_shape()\n",
    "print(shape)"
   ]
  },
  {
   "cell_type": "markdown",
   "id": "seventh-beauty",
   "metadata": {},
   "source": [
    "---"
   ]
  },
  {
   "cell_type": "markdown",
   "id": "canadian-dialogue",
   "metadata": {},
   "source": [
    "**Q 4:**\n",
    "\n",
    "Define a function to print the number of days in the given month.\n",
    "\n",
    "Function name will be **number_of_days_in_month**.\n",
    "\n",
    "It will ask month name from the user.\n",
    "\n",
    "Number of Days in Gregorian Calendar:\n",
    "* January - 31\n",
    "* February - 28 or 29\n",
    "* March - 31\n",
    "* April - 30\n",
    "* May - 31\n",
    "* June - 30\n",
    "* July - 31\n",
    "* August - 31\n",
    "* September - 30\n",
    "* October - 31\n",
    "* November - 30\n",
    "* December - 31\n",
    "\n",
    "<pre>\n",
    "Expected Output:\n",
    "Please enter the month name:  October\n",
    "'There are 31 days in October'\n",
    "</pre>"
   ]
  },
  {
   "cell_type": "code",
   "execution_count": 16,
   "id": "national-fashion",
   "metadata": {},
   "outputs": [],
   "source": [
    "# S 4:\n",
    "\n",
    "\n"
   ]
  },
  {
   "cell_type": "code",
   "execution_count": 17,
   "id": "suited-password",
   "metadata": {},
   "outputs": [
    {
     "name": "stdin",
     "output_type": "stream",
     "text": [
      "Please enter the month name:  February\n"
     ]
    },
    {
     "data": {
      "text/plain": [
       "'There are 28 or 29 days in February'"
      ]
     },
     "execution_count": 17,
     "metadata": {},
     "output_type": "execute_result"
    }
   ],
   "source": [
    "number_of_days_in_month()"
   ]
  },
  {
   "cell_type": "markdown",
   "id": "proud-watch",
   "metadata": {},
   "source": [
    "---"
   ]
  },
  {
   "cell_type": "markdown",
   "id": "rolled-stanford",
   "metadata": {},
   "source": [
    "**Q 5:**\n",
    "\n",
    "Define a function to ask the length of sides of a triangle.\n",
    "\n",
    "Function name is **name_the_triangle**.\n",
    "\n",
    "The function will decide the type of triangle, according to the sides length.\n",
    "\n",
    "And will return its name.\n",
    "\n",
    "Types of Triangles:\n",
    "* Equilateral: three equal sides\n",
    "* Isosceles: two equal sides\n",
    "* Scalene: no equal sides"
   ]
  },
  {
   "cell_type": "code",
   "execution_count": 18,
   "id": "smoking-perfume",
   "metadata": {},
   "outputs": [],
   "source": [
    "# S 5:\n",
    "\n",
    "def name_the_triangle():\n",
    "    Equilateral = input('Length for the first side:')\n",
    "    Isosceles = input('Length for the second side:')\n",
    "    Scalene = input('Length for the third side:')\n",
    "    return Scalene \n"
   ]
  },
  {
   "cell_type": "code",
   "execution_count": 19,
   "id": "numerical-international",
   "metadata": {},
   "outputs": [
    {
     "name": "stdout",
     "output_type": "stream",
     "text": [
      "Length for the first side:10\n",
      "Length for the second side:45\n",
      "Length for the third side:20\n",
      "20\n"
     ]
    }
   ],
   "source": [
    "print(name_the_triangle())"
   ]
  },
  {
   "cell_type": "markdown",
   "id": "acute-suggestion",
   "metadata": {},
   "source": [
    "---"
   ]
  },
  {
   "cell_type": "markdown",
   "id": "9467fbc6",
   "metadata": {},
   "source": [
    "**Q 6:**\n",
    "\n",
    "Define a function that decides what to wear, according to the month and number of the day.\n",
    "\n",
    "Function name will be **what_to_wear** and it will ask for the name of the month and day number.\n",
    "\n",
    "According to month and day number, it will check for the season and with season, it will return what to wear.\n",
    "\n",
    "<pre>\n",
    "Seasons and Garments \n",
    "Spring: Shirt\n",
    "Summer: T-shirt\n",
    "Autumn: Sweater\n",
    "Winter: Coat\n",
    "\n",
    "The Solstices:\n",
    "* June (21)\n",
    "* December (21)\n",
    "\n",
    "The Equinoxes:\n",
    "* March (21)\n",
    "* September (23)\n",
    "\n",
    "Expected Output:\n",
    "Enter month name:  March\n",
    "Enter day number:  24\n",
    "In March, day 24 we wear Shirt\n",
    "</pre>"
   ]
  },
  {
   "cell_type": "code",
   "execution_count": 11,
   "id": "c20dfb88",
   "metadata": {},
   "outputs": [],
   "source": [
    "# S 6:\n",
    "def what_to_wear ():\n",
    "    month_name = input('Enter month name:')\n",
    "    day_number = int(input('Enter day number:'))\n",
    "    seasos = {\n",
    "        'Spring': 'Shirt',\n",
    "        'Summer': 'T-shirt',\n",
    "        'Autumn': 'Sweater',\n",
    "        'Winter': 'Coat'  \n",
    "        }\n",
    "    \n",
    "    if (month_name == 'March' and day_number >= 24) or (month_name == 'June' and day_number <23):\n",
    "        season = 'Spring'\n",
    "    elif (month_name == 'June' and day_number >= 21) or (month_name == 'September' and day_number < 23):\n",
    "        season = 'Summer'\n",
    "    elif (month_name == 'september' and day_number >= 23) or (month_name == 'December' and day_number < 21):\n",
    "        season = 'Autumn'\n",
    "    else:\n",
    "        season = 'Winter'\n",
    "            \n",
    "        garment = seasons[season]\n",
    "        print(f'In {month_name}, day{day_number} we wear {garment}.')"
   ]
  },
  {
   "cell_type": "code",
   "execution_count": 12,
   "id": "japanese-butter",
   "metadata": {},
   "outputs": [
    {
     "name": "stdout",
     "output_type": "stream",
     "text": [
      "Enter month name:March\n",
      "Enter day number:24\n"
     ]
    }
   ],
   "source": [
    "what_to_wear()"
   ]
  },
  {
   "cell_type": "markdown",
   "id": "surprising-leone",
   "metadata": {},
   "source": [
    "---"
   ]
  },
  {
   "cell_type": "markdown",
   "id": "falling-marker",
   "metadata": {},
   "source": [
    "**Q 7:**\n",
    "\n",
    "Define a function named **which_day**.\n",
    "\n",
    "It will ask for any of the capital letters: F, M, S, T, W\n",
    "\n",
    "These are the first letters of the day names in a week.\n",
    "\n",
    "The function will decide which day by the first letter.\n",
    "\n",
    "It may ask additional questins if needed?\n",
    "\n",
    "Days:\n",
    "* Monday, Tuesday, Wednesday, Thursday, Friday, Saturday, Sunday\n",
    "\n",
    "Additional questions by letter:\n",
    "* S: \n",
    "    * \"first day of weekend\" or \n",
    "    * \"last day of weekend\"\n",
    "* T: \n",
    "    * \"at the beginning of the week\" or \n",
    "    * \"at the middle of the week\"\n",
    "    \n",
    "<pre>\n",
    "Expected Output:\n",
    "Please enter any of the capital letters: F, M, S, T, W :  T\n",
    "Is it at the beginning of the week? Yes - No? No\n",
    "Your day: THURSDAY\n",
    "</pre>"
   ]
  },
  {
   "cell_type": "code",
   "execution_count": 29,
   "id": "cardiovascular-yorkshire",
   "metadata": {},
   "outputs": [
    {
     "name": "stderr",
     "output_type": "stream",
     "text": [
      "<>:6: SyntaxWarning: 'str' object is not callable; perhaps you missed a comma?\n",
      "<>:6: SyntaxWarning: 'str' object is not callable; perhaps you missed a comma?\n",
      "/var/folders/42/gncj6hfd2xs9vt8bgd20kv2m0000gn/T/ipykernel_53254/1189147760.py:6: SyntaxWarning: 'str' object is not callable; perhaps you missed a comma?\n",
      "  number == 'F'('F == first day of the weekend' )or ('F == last day of the weekend')\n"
     ]
    }
   ],
   "source": [
    "# S 7:\n",
    "def which_day ():\n",
    "    number= input(\"Please enter any of the capital letters ('F', 'M', 'S', 'T', 'W'): \")\n",
    "    GEE = input('your day:')\n",
    "    \n",
    "    number == 'F'('F == first day of the weekend' )or ('F == last day of the weekend')\n",
    "    \n",
    "    if number == 'F':\n",
    "        DAY = 'FRIDAY'\n",
    "    elif number == \"S\":\n",
    "        DAY = 'SUNDAY'\n",
    "    else:\n",
    "        DAY = 'THURSDAY'\n",
    "        \n",
    "    print('{1}, {2} Is it at the beginning of the week? Yes - No? No'.format(number, GEE, DAY))\n",
    "    "
   ]
  },
  {
   "cell_type": "code",
   "execution_count": 25,
   "id": "binding-profit",
   "metadata": {},
   "outputs": [
    {
     "name": "stdout",
     "output_type": "stream",
     "text": [
      "Please enter any of the capital letters ('F', 'M', 'S', 'T', 'W'): F\n",
      "your day:FRIDAY\n"
     ]
    },
    {
     "data": {
      "text/plain": [
       "'FRIDAY'"
      ]
     },
     "execution_count": 25,
     "metadata": {},
     "output_type": "execute_result"
    }
   ],
   "source": [
    "which_day()"
   ]
  },
  {
   "cell_type": "code",
   "execution_count": 24,
   "id": "metropolitan-heritage",
   "metadata": {},
   "outputs": [
    {
     "name": "stdout",
     "output_type": "stream",
     "text": [
      "Please enter any of the capital letters ('F', 'M', 'S', 'T', 'W'): S\n",
      "your day:SUNDAY\n"
     ]
    },
    {
     "data": {
      "text/plain": [
       "'SUNDAY'"
      ]
     },
     "execution_count": 24,
     "metadata": {},
     "output_type": "execute_result"
    }
   ],
   "source": [
    "which_day()"
   ]
  },
  {
   "cell_type": "code",
   "execution_count": 4,
   "id": "removable-backing",
   "metadata": {},
   "outputs": [
    {
     "name": "stdin",
     "output_type": "stream",
     "text": [
      "Please enter any of the capital letters: F, M, S, T, W :  T\n",
      "Is it at the beginning of the week? Yes - No? No\n"
     ]
    },
    {
     "name": "stdout",
     "output_type": "stream",
     "text": [
      "Your day: THURSDAY\n"
     ]
    }
   ],
   "source": [
    "which_day()"
   ]
  },
  {
   "cell_type": "markdown",
   "id": "indian-pathology",
   "metadata": {},
   "source": [
    "---"
   ]
  },
  {
   "cell_type": "markdown",
   "id": "spiritual-blend",
   "metadata": {},
   "source": [
    "**Q 8:**\n",
    "\n",
    "Define a function named **odds_evens**.\n",
    "\n",
    "It will ask for a pozitif number from the user.\n",
    "\n",
    "Check if the input is an integer or not.\n",
    "\n",
    "Also check if the number is a positive number.\n",
    "\n",
    "Decide if the number is ODD or EVEN and print:\n",
    "* If the number is odd -> ODD\n",
    "* If the number is event and between 1 and 10 (both included) -> EVEN of TEN\n",
    "* If the number is even and between 11 and 20 (both included) -> EVEN of TWENTY\n",
    "* If the number is even and greater than 20 -> EVEN\n",
    "\n",
    "<pre>\n",
    "Expected Output:\n",
    "Plase enter a number:  18\n",
    "EVEN of TWENTY\n",
    "</pre>"
   ]
  },
  {
   "cell_type": "code",
   "execution_count": 13,
   "id": "acting-wales",
   "metadata": {},
   "outputs": [],
   "source": [
    "# S 8:\n",
    "\n",
    "\n"
   ]
  },
  {
   "cell_type": "code",
   "execution_count": 21,
   "id": "every-spokesman",
   "metadata": {},
   "outputs": [
    {
     "name": "stdin",
     "output_type": "stream",
     "text": [
      "Plase enter a number:  18\n"
     ]
    },
    {
     "name": "stdout",
     "output_type": "stream",
     "text": [
      "EVEN of TWENTY\n"
     ]
    }
   ],
   "source": [
    "odds_evens()"
   ]
  },
  {
   "cell_type": "markdown",
   "id": "neutral-spider",
   "metadata": {},
   "source": [
    "---"
   ]
  },
  {
   "cell_type": "markdown",
   "id": "solar-interpretation",
   "metadata": {},
   "source": [
    "**Q 9:**\n",
    "\n",
    "**Sum of Odds and Evens:** \n",
    "* If the sum of two numbers is Odd then only one of these is Odd.\n",
    "* It the sum of two numbers is Even then both are Odd or both are Even.\n",
    "\n",
    "Define a function named **sum_of_odds_and_evens**.\n",
    "\n",
    "It will ask for two integers from the user.\n",
    "\n",
    "Then it will decide if the sum is Odd or Even.\n",
    "\n",
    "**Important Note:** Do not calculate the actual summation as x + y.\n",
    "\n",
    "<pre>\n",
    "Expected Output:\n",
    "First Number:  8\n",
    "Second Number:  3\n",
    "Sum is ODD\n",
    "</pre>"
   ]
  },
  {
   "cell_type": "code",
   "execution_count": 22,
   "id": "several-aggregate",
   "metadata": {},
   "outputs": [],
   "source": [
    "# S 9:\n",
    "\n",
    "\n"
   ]
  },
  {
   "cell_type": "code",
   "execution_count": 23,
   "id": "executive-chester",
   "metadata": {},
   "outputs": [
    {
     "name": "stdin",
     "output_type": "stream",
     "text": [
      "First Number:  8\n",
      "Second Number:  3\n"
     ]
    },
    {
     "name": "stdout",
     "output_type": "stream",
     "text": [
      "Sum is ODD\n"
     ]
    }
   ],
   "source": [
    "sum_of_odds_and_evens()"
   ]
  },
  {
   "cell_type": "code",
   "execution_count": 24,
   "id": "detailed-generic",
   "metadata": {},
   "outputs": [
    {
     "name": "stdin",
     "output_type": "stream",
     "text": [
      "First Number:  5\n",
      "Second Number:  7\n"
     ]
    },
    {
     "name": "stdout",
     "output_type": "stream",
     "text": [
      "Sum is EVEN\n"
     ]
    }
   ],
   "source": [
    "sum_of_odds_and_evens()"
   ]
  },
  {
   "cell_type": "code",
   "execution_count": 25,
   "id": "binary-banana",
   "metadata": {},
   "outputs": [
    {
     "name": "stdin",
     "output_type": "stream",
     "text": [
      "First Number:  8\n",
      "Second Number:  10\n"
     ]
    },
    {
     "name": "stdout",
     "output_type": "stream",
     "text": [
      "Sum is EVEN\n"
     ]
    }
   ],
   "source": [
    "sum_of_odds_and_evens()"
   ]
  },
  {
   "cell_type": "markdown",
   "id": "thermal-interpretation",
   "metadata": {},
   "source": [
    "---"
   ]
  },
  {
   "cell_type": "markdown",
   "id": "obvious-phase",
   "metadata": {},
   "source": [
    "**Q 10:**\n",
    "\n",
    "Define a function named **count_down**.\n",
    "\n",
    "It will ask for two integers from the user.\n",
    "\n",
    "First it will decide which one of them is small and which one is large.\n",
    "\n",
    "Then it will print the numbers starting from the large one up to the small one. (backwards)\n",
    "\n",
    "**Hints:** \n",
    "* Solve with Recursion.\n",
    "* There may be a second function as **print_down** for Recursion.\n",
    "\n",
    "<pre>\n",
    "Expected Output:\n",
    "First Number:  26\n",
    "Second Number:  12\n",
    "small: 12\n",
    "large: 26\n",
    "26\n",
    "25\n",
    "24\n",
    "23\n",
    "22\n",
    "21\n",
    "20\n",
    "19\n",
    "18\n",
    "17\n",
    "16\n",
    "15\n",
    "14\n",
    "13\n",
    "12\n",
    "</pre>"
   ]
  },
  {
   "cell_type": "code",
   "execution_count": 26,
   "id": "toxic-branch",
   "metadata": {},
   "outputs": [],
   "source": [
    "# S 10:\n",
    "   \n",
    "\n"
   ]
  },
  {
   "cell_type": "code",
   "execution_count": 27,
   "id": "aquatic-looking",
   "metadata": {},
   "outputs": [
    {
     "name": "stdin",
     "output_type": "stream",
     "text": [
      "First Number:  26\n",
      "Second Number:  12\n"
     ]
    },
    {
     "name": "stdout",
     "output_type": "stream",
     "text": [
      "small: 12\n",
      "large: 26\n",
      "26\n",
      "25\n",
      "24\n",
      "23\n",
      "22\n",
      "21\n",
      "20\n",
      "19\n",
      "18\n",
      "17\n",
      "16\n",
      "15\n",
      "14\n",
      "13\n",
      "12\n"
     ]
    }
   ],
   "source": [
    "count_down()"
   ]
  },
  {
   "cell_type": "code",
   "execution_count": null,
   "id": "another-emperor",
   "metadata": {},
   "outputs": [],
   "source": []
  }
 ],
 "metadata": {
  "kernelspec": {
   "display_name": "Python 3 (ipykernel)",
   "language": "python",
   "name": "python3"
  },
  "language_info": {
   "codemirror_mode": {
    "name": "ipython",
    "version": 3
   },
   "file_extension": ".py",
   "mimetype": "text/x-python",
   "name": "python",
   "nbconvert_exporter": "python",
   "pygments_lexer": "ipython3",
   "version": "3.10.9"
  }
 },
 "nbformat": 4,
 "nbformat_minor": 5
}
